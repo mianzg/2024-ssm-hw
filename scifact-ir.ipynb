{
 "cells": [
  {
   "cell_type": "markdown",
   "metadata": {},
   "source": [
    "SciFact, a dataset of 1.4K expert-written scientific claims paired with evidence-containing abstracts, and annotated with labels and rationales."
   ]
  },
  {
   "cell_type": "code",
   "execution_count": 44,
   "metadata": {},
   "outputs": [],
   "source": [
    "import faiss\n",
    "import pickle\n",
    "import numpy as np\n",
    "from elasticsearch import Elasticsearch\n",
    "from datasets import load_dataset"
   ]
  },
  {
   "cell_type": "markdown",
   "metadata": {},
   "source": [
    "### Import data"
   ]
  },
  {
   "cell_type": "code",
   "execution_count": 2,
   "metadata": {},
   "outputs": [],
   "source": [
    "# Specify the file path where your embeddings were saved\n",
    "claim = \"scifact_claim_embeddings.pkl\"\n",
    "evidence = \"scifact_evidence_embeddings.pkl\"\n",
    "\n",
    "# Step 1: Load the pickled embeddings for evidence and claim\n",
    "with open(evidence, \"rb\") as f:\n",
    "    evidence_embeddings = pickle.load(f)\n",
    "\n",
    "with open(claim, \"rb\") as f:\n",
    "    claim_embeddings = pickle.load(f)"
   ]
  },
  {
   "cell_type": "code",
   "execution_count": 3,
   "metadata": {},
   "outputs": [],
   "source": [
    "# Reformat embeddings into numpy array\n",
    "claim_doc = []\n",
    "claim_mat = []\n",
    "for doc, embeddings in claim_embeddings.items():\n",
    "    claim_doc.append(doc)\n",
    "    claim_mat.append(embeddings)\n",
    "claim_mat = np.array(claim_mat)\n",
    "\n",
    "\n",
    "evidence_doc = []\n",
    "evidence_mat = []\n",
    "for doc, embeddings in evidence_embeddings.items():\n",
    "    evidence_doc.append(doc)\n",
    "    evidence_mat.append(embeddings)\n",
    "evidence_mat = np.array(evidence_mat)"
   ]
  },
  {
   "cell_type": "code",
   "execution_count": 4,
   "metadata": {},
   "outputs": [
    {
     "name": "stdout",
     "output_type": "stream",
     "text": [
      "Evidence embedding dimension: (5183, 1536)\n",
      "Claim embedding dimension: (809, 1536)\n"
     ]
    }
   ],
   "source": [
    "# Check on embedding dimensions\n",
    "n_evi, d = np.shape(evidence_mat)\n",
    "print(f\"Evidence embedding dimension: {(n_evi, d)}\")\n",
    "n_claim, d = np.shape(claim_mat)\n",
    "print(f\"Claim embedding dimension: {(n_claim, d)}\")\n"
   ]
  },
  {
   "cell_type": "code",
   "execution_count": 78,
   "metadata": {},
   "outputs": [],
   "source": [
    "# Get relevant documents index for claims\n",
    "scifact_evidence = load_dataset(\"allenai/scifact\", \"corpus\")\n",
    "scifact_claims = load_dataset(\"allenai/scifact\", \"claims\")"
   ]
  },
  {
   "cell_type": "code",
   "execution_count": 115,
   "metadata": {},
   "outputs": [],
   "source": [
    "query_id =[doc[0] for doc in claim_doc]\n",
    "evidence_doc_id = [str(i) for i in scifact_evidence[\"train\"]['doc_id']]\n",
    "golden_evidence_id = []\n",
    "\n",
    "for claim in scifact_claims['train']:\n",
    "    if claim[\"id\"] in query_id:\n",
    "        if claim[\"evidence_doc_id\"] == \"\":\n",
    "            golden_evidence_id.append([-1])\n",
    "        else:\n",
    "            golden_evidence_id.append([evidence_doc_id.index(claim[\"evidence_doc_id\"])])\n",
    "        query_id.remove(claim[\"id\"])\n",
    "golden_evidence_id = np.array(golden_evidence_id)"
   ]
  },
  {
   "cell_type": "code",
   "execution_count": 68,
   "metadata": {},
   "outputs": [],
   "source": [
    "# Mean Reciprocal Rank @ K (MRR@K)\n",
    "def mrr_at_k(actual, predicted, k):\n",
    "    \"\"\"\n",
    "    Calculate Mean Reciprocal Rank at K (MRR@K).\n",
    "    \n",
    "    Args:\n",
    "    actual: List of lists containing actual relevant items for each query.\n",
    "    predicted: List of lists containing predicted items for each query.\n",
    "    k: The number of top predictions to consider.\n",
    "    \n",
    "    Returns:\n",
    "    float: The MRR@K score.\n",
    "    \"\"\"\n",
    "    reciprocal_ranks = []\n",
    "    \n",
    "    for act, pred in zip(actual, predicted):\n",
    "        # Find the rank of the first relevant item in top K predictions\n",
    "        for rank, item in enumerate(pred[:k], 1):\n",
    "            if item in act:\n",
    "                reciprocal_ranks.append(1.0 / rank)\n",
    "                break\n",
    "        else:\n",
    "            reciprocal_ranks.append(0.0)\n",
    "    \n",
    "    return np.mean(reciprocal_ranks)\n",
    "\n",
    "def mean_average_precision_at_k(actual, predicted, k):\n",
    "    ap_at_k = []\n",
    "\n",
    "    map_at_k = np.mean(ap_at_k)\n",
    "    \n",
    "    return map_at_k\n"
   ]
  },
  {
   "cell_type": "markdown",
   "metadata": {},
   "source": [
    "## 5.2 Nearest Neighbor with FAISS\n",
    "reference: https://github.com/facebookresearch/faiss/wiki/Getting-started"
   ]
  },
  {
   "cell_type": "markdown",
   "metadata": {},
   "source": [
    "### Build index with Evidence Embeddings"
   ]
  },
  {
   "cell_type": "code",
   "execution_count": 91,
   "metadata": {},
   "outputs": [
    {
     "name": "stdout",
     "output_type": "stream",
     "text": [
      "True\n",
      "5183\n"
     ]
    }
   ],
   "source": [
    "index = faiss.IndexFlatL2(d)   # build the index\n",
    "print(index.is_trained)\n",
    "index.add(evidence_mat)  # add vectors to the index\n",
    "print(index.ntotal)"
   ]
  },
  {
   "cell_type": "markdown",
   "metadata": {},
   "source": [
    "### Search KNN"
   ]
  },
  {
   "cell_type": "code",
   "execution_count": 92,
   "metadata": {},
   "outputs": [],
   "source": [
    "K = 50\n",
    "D, I = index.search(claim_mat, K)     # actual search"
   ]
  },
  {
   "cell_type": "markdown",
   "metadata": {},
   "source": [
    "### Evaluation of MAP and MRR"
   ]
  },
  {
   "cell_type": "code",
   "execution_count": null,
   "metadata": {},
   "outputs": [],
   "source": []
  },
  {
   "cell_type": "code",
   "execution_count": 119,
   "metadata": {},
   "outputs": [
    {
     "name": "stdout",
     "output_type": "stream",
     "text": [
      "MRR@1:0.453646477132262, MRR@10: 0.5063982576961563, MRR@50: 0.507288146659629\n"
     ]
    }
   ],
   "source": [
    "mrr_at_1 = mrr_at_k(actual=golden_evidence_id, predicted=I, k=1)\n",
    "mrr_at_10 = mrr_at_k(actual=golden_evidence_id, predicted=I, k=10)\n",
    "mrr_at_50 = mrr_at_k(actual=golden_evidence_id, predicted=I, k=50)\n",
    "print(f\"MRR@1:{mrr_at_1}, MRR@10: {mrr_at_10}, MRR@50: {mrr_at_50}\")"
   ]
  },
  {
   "cell_type": "markdown",
   "metadata": {},
   "source": [
    "## 5.3 ElasticSearch"
   ]
  },
  {
   "cell_type": "code",
   "execution_count": 133,
   "metadata": {},
   "outputs": [],
   "source": [
    "# Connect to Elasticsearch instance\n",
    "es = Elasticsearch(\"http://localhost:9200\")\n",
    "\n",
    "# Check if Elasticsearch is running\n",
    "if not es.ping():\n",
    "    raise ValueError(\"Connection failed\")"
   ]
  },
  {
   "cell_type": "markdown",
   "metadata": {},
   "source": [
    "### Build Index with Evidence Text"
   ]
  },
  {
   "cell_type": "code",
   "execution_count": 138,
   "metadata": {},
   "outputs": [],
   "source": [
    "import json\n",
    "# Index documents in Elasticsearch\n",
    "for i, doc in enumerate(evidence_doc):\n",
    "    es.index(index = \"evidence-index\", id = i, body ={\"text\": doc[1]})"
   ]
  },
  {
   "cell_type": "code",
   "execution_count": 150,
   "metadata": {},
   "outputs": [],
   "source": [
    "I = []\n",
    "for claim in claim_doc:\n",
    "    query = claim[1]\n",
    "    response = es.search(index = \"evidence-index\", \n",
    "                     body ={\"query\": \n",
    "                            {\"match\": \n",
    "                             {\"text\": query}\n",
    "                             }\n",
    "                             ,\n",
    "                             \"size\": 50})\n",
    "    topk = [int(hit['_id']) for hit in response[\"hits\"][\"hits\"]]\n",
    "    I.append(topk)\n",
    "I = np.array(I)\n"
   ]
  },
  {
   "cell_type": "code",
   "execution_count": 147,
   "metadata": {},
   "outputs": [
    {
     "data": {
      "text/plain": [
       "(809, 50)"
      ]
     },
     "execution_count": 147,
     "metadata": {},
     "output_type": "execute_result"
    }
   ],
   "source": [
    "I.shape"
   ]
  },
  {
   "cell_type": "code",
   "execution_count": 144,
   "metadata": {},
   "outputs": [],
   "source": [
    "response = es.search(index = \"evidence-index\", \n",
    "                     body ={\"query\": \n",
    "                            {\"match\": \n",
    "                             {\"text\": query}\n",
    "                             }\n",
    "                             ,\n",
    "                             \"size\": 10})"
   ]
  },
  {
   "cell_type": "code",
   "execution_count": 145,
   "metadata": {},
   "outputs": [
    {
     "name": "stdout",
     "output_type": "stream",
     "text": [
      "Document ID:1810, Score: 13.345161\n",
      "Document: BACKGROUND Paralysis or amputation of an arm results in the loss of the ability to orient the hand and grasp, manipulate, and carry objects, functions that are essential for activities of daily living. Brain-machine interfaces could provide a solution to restoring many of these lost functions. We therefore tested whether an individual with tetraplegia could rapidly achieve neurological control of a high-performance prosthetic limb using this type of an interface.   \n",
      " METHODS We implanted two 96-channel intracortical microelectrodes in the motor cortex of a 52-year-old individual with tetraplegia. Brain-machine-interface training was done for 13 weeks with the goal of controlling an anthropomorphic prosthetic limb with seven degrees of freedom (three-dimensional translation, three-dimensional orientation, one-dimensional grasping). The participant's ability to control the prosthetic limb was assessed with clinical measures of upper limb function. This study is registered with ClinicalTrials.gov, NCT01364480.   \n",
      " FINDINGS The participant was able to move the prosthetic limb freely in the three-dimensional workspace on the second day of training. After 13 weeks, robust seven-dimensional movements were performed routinely. Mean success rate on target-based reaching tasks was 91·6% (SD 4·4) versus median chance level 6·2% (95% CI 2·0-15·3). Improvements were seen in completion time (decreased from a mean of 148 s [SD 60] to 112 s [6]) and path efficiency (increased from 0·30 [0·04] to 0·38 [0·02]). The participant was also able to use the prosthetic limb to do skilful and coordinated reach and grasp movements that resulted in clinically significant gains in tests of upper limb function. No adverse events were reported.   \n",
      " INTERPRETATION With continued development of neuroprosthetic limbs, individuals with long-term paralysis could recover the natural and intuitive command signals for hand placement, orientation, and reaching, allowing them to perform activities of daily living.   \n",
      " FUNDING Defense Advanced Research Projects Agency, National Institutes of Health, Department of Veterans Affairs, and UPMC Rehabilitation Institute.\n",
      "\n",
      "Document ID:4721, Score: 9.723136\n",
      "Document: Life forms that have low body mass can hunt for food on the undersurface of branches or along shear cliff faces quite unperturbed by gravity. For larger animals, the hunt for dinner and the struggle to avoid becoming someone else's meal require rapid movement against gravity. This need is met by the lever function of long bones, three-dimensional masterpieces of biomechanical engineering that, by their material composition and structural design, achieve the contradictory properties of stiffness and flexibility, strength and lightness.1 Material stiffness results from the encrusting of the triple-helical structure of collagen type I with hydroxyapatite crystals, which confers . . .\n",
      "\n",
      "Document ID:151, Score: 9.28516\n",
      "Document: The epithelial-mesenchymal transition (EMT) is required in the embryo for the formation of tissues for which cells originate far from their final destination. Carcinoma cells hijack this program for tumor dissemination. The relevance of the EMT in cancer is still debated because it is unclear how these migratory cells colonize distant tissues to form macrometastases. We show that the homeobox factor Prrx1 is an EMT inducer conferring migratory and invasive properties. The loss of Prrx1 is required for cancer cells to metastasize in vivo, which revert to the epithelial phenotype concomitant with the acquisition of stem cell properties. Thus, unlike the classical EMT transcription factors, Prrx1 uncouples EMT and stemness, and is a biomarker associated with patient survival and lack of metastasis.\n",
      "\n",
      "Document ID:209, Score: 9.192583\n",
      "Document: OBJECTIVE The 1987 American College of Rheumatology (ACR; formerly the American Rheumatism Association) classification criteria for rheumatoid arthritis (RA) have been criticised for their lack of sensitivity in early disease. This work was undertaken to develop new classification criteria for RA.   \n",
      " METHODS A joint working group from the ACR and the European League Against Rheumatism developed, in three phases, a new approach to classifying RA. The work focused on identifying, among patients newly presenting with undifferentiated inflammatory synovitis, factors that best discriminated between those who were and those who were not at high risk for persistent and/or erosive disease--this being the appropriate current paradigm underlying the disease construct 'RA'.   \n",
      " RESULTS In the new criteria set, classification as 'definite RA' is based on the confirmed presence of synovitis in at least one joint, absence of an alternative diagnosis better explaining the synovitis, and achievement of a total score of 6 or greater (of a possible 10) from the individual scores in four domains: number and site of involved joints (range 0-5), serological abnormality (range 0-3), elevated acute-phase response (range 0-1) and symptom duration (two levels; range 0-1).   \n",
      " CONCLUSION This new classification system redefines the current paradigm of RA by focusing on features at earlier stages of disease that are associated with persistent and/or erosive disease, rather than defining the disease by its late-stage features. This will refocus attention on the important need for earlier diagnosis and institution of effective disease-suppressing therapy to prevent or minimise the occurrence of the undesirable sequelae that currently comprise the paradigm underlying the disease construct 'RA'.\n",
      "\n",
      "Document ID:4035, Score: 9.185494\n",
      "Document: Autophagy is a dynamic process that regulates lysosomal-dependent degradation of cellular components. Until recently the study of autophagy has been hampered by the lack of reliable pharmacological tools, but selective inhibitors are now available to modulate the PI 3-kinase VPS34, which is required for autophagy. Here we describe the discovery of potent and selective VPS34 inhibitors, their pharmacokinetic (PK) properties, and ability to inhibit autophagy in cellular and mouse models.\n",
      "\n",
      "Document ID:849, Score: 9.145763\n",
      "Document: Extracellular vesicles (EVs) are cell-derived membrane vesicles, and represent an endogenous mechanism for intercellular communication. Since the discovery that EVs are capable of functionally transferring biological information, the potential use of EVs as drug delivery vehicles has gained considerable scientific interest. EVs may have multiple advantages over currently available drug delivery vehicles, such as their ability to overcome natural barriers, their intrinsic cell targeting properties, and stability in the circulation. However, therapeutic applications of EVs as drug delivery systems have been limited due to a lack of methods for scalable EV isolation and efficient drug loading. Furthermore, in order to achieve targeted drug delivery, their intrinsic cell targeting properties should be tuned through EV engineering. Here, we review and discuss recent progress and remaining challenges in the development of EVs as drug delivery vehicles.\n",
      "\n",
      "Document ID:3946, Score: 9.000207\n",
      "Document: Red blood cells are known to change shape in response to local flow conditions. Deformability affects red blood cell physiological function and the hydrodynamic properties of blood. The immersed boundary method is used to simulate three-dimensional membrane-fluid flow interactions for cells with the same internal and external fluid viscosities. The method has been validated for small deformations of an initially spherical capsule in simple shear flow for both neo-Hookean and the Evans-Skalak membrane models. Initially oblate spheroidal capsules are simulated and it is shown that the red blood cell membrane exhibits asymptotic behavior as the ratio of the dilation modulus to the extensional modulus is increased and a good approximation of local area conservation is obtained. Tank treading behavior is observed and its period calculated.\n",
      "\n",
      "Document ID:5133, Score: 8.7940235\n",
      "Document: Abstract In this paper, growth and characterization of CdS thin films by Chemical Bath Deposition (CBD) technique using the reaction between CdCl 2 , (NH 2 ) 2 CS and NH 3 in an aqueous solution has been reported. The parameters actively involved in the process of deposition have been identified. A commonly available CBD system has been sucessfully modified to obtain the precious control over the pH of the solution at 90°C during the deposition and studies have been made to understand the fundamental parameters like concentrations of the solution, pH and temperature of the solution involved in the chemical bath deposition of CdS. It is confirmed that the pH of the solution plays a vital role in the quality of the CBD–CdS films. Structural, optical and electrical properties have been analysed for the as-deposited and annealed films. XRD studies on the CBD–CdS films reveal that the change in Cadmium ion concentration in the bath results in the change in crystallization from cubic phase with (1 1 1) predominant orientation to a hexagonal phase with (0 0 2) predominant orientation. The structural changes due to varying cadmium ion concentration in the bath affects the optical and electrical properties. Optimum electrical resistivity, band gap and refractive index value are observed for the annealed films deposited from 0.8 M cadmium ion concentration. The films are suitable for solar cell fabrication. Further on, annealing the samples at 350°C in H 2 for 30 min resulted in an increased diffraction intensity as well as shifts in the peak towards lower scattering angles due to enlarged CdS unit cell. This in turn brought about an increase in the lattice parameters and narrowing in the band-gap values. The results are compared with the analysis of previous work.\n",
      "\n",
      "Document ID:2275, Score: 8.458033\n",
      "Document: The Caliciviridae family comprises positive-sense RNA viruses of medical and veterinary significance. In humans, caliciviruses are a major cause of acute gastroenteritis, while in animals respiratory illness, conjunctivitis, stomatitis, and hemorrhagic disease are documented. Investigation of virus-host interactions is limited by a lack of culture systems for many viruses in this family. Feline calicivirus (FCV), a member of the Vesivirus genus, provides a tractable model, since it may be propagated in cell culture. Feline junctional adhesion molecule 1 (fJAM-1) was recently identified as a functional receptor for FCV. We have analyzed the structure of this virus-receptor complex by cryo-electron microscopy and three-dimensional image reconstruction, combined with fitting of homology modeled high-resolution coordinates. We show that domain 1 of fJAM-1 binds to the outer face of the P2 domain of the FCV capsid protein VP1, inducing conformational changes in the viral capsid. This study provides the first structural view of a native calicivirus-protein receptor complex and insights into the mechanisms of virus attachment and uncoating.\n",
      "\n",
      "Document ID:4887, Score: 8.068617\n",
      "Document: It has been proposed that epithelial-mesenchymal transition (EMT) in mammary epithelial cells and breast cancer cells generates stem cell features, and that the presence of EMT characteristics in claudin-low breast tumors reveals their origin in basal stem cells. It remains to be determined, however, whether EMT is an inherent property of normal basal stem cells, and if the presence of a mesenchymal-like phenotype is required for the maintenance of all their stem cell properties. We used nontumorigenic basal cell lines as models of normal stem cells/progenitors and demonstrate that these cell lines contain an epithelial subpopulation (\"EpCAM+,\" epithelial cell adhesion molecule positive [EpCAM(pos)]/CD49f(high)) that spontaneously generates mesenchymal-like cells (\"Fibros,\" EpCAM(neg)/CD49f(med/low)) through EMT. Importantly, stem cell/progenitor properties such as regenerative potential, high aldehyde dehydrogenase 1 activity, and formation of three-dimensional acini-like structures predominantly reside within EpCAM+ cells, while Fibros exhibit invasive behavior and mammosphere-forming ability. A gene expression profiling meta-analysis established that EpCAM+ cells show a luminal progenitor-like expression pattern, while Fibros most closely resemble stromal fibroblasts but not stem cells. Moreover, Fibros exhibit partial myoepithelial traits and strong similarities with claudin-low breast cancer cells. Finally, we demonstrate that Slug and Zeb1 EMT-inducers control the progenitor and mesenchymal-like phenotype in EpCAM+ cells and Fibros, respectively, by inhibiting luminal differentiation. In conclusion, nontumorigenic basal cell lines have intrinsic capacity for EMT, but a mesenchymal-like phenotype does not correlate with the acquisition of global stem cell/progenitor features. Based on our findings, we propose that EMT in normal basal cells and claudin-low breast cancers reflects aberrant/incomplete myoepithelial differentiation.\n",
      "\n"
     ]
    }
   ],
   "source": [
    "# Print search results\n",
    "for hit in response[\"hits\"][\"hits\"]:\n",
    "    print(f\"Document ID:{hit['_id']}, Score: {hit ['_score']}\")\n",
    "    print(f\"Document: { hit ['_source']['text']}\\n\")"
   ]
  },
  {
   "cell_type": "code",
   "execution_count": 152,
   "metadata": {},
   "outputs": [
    {
     "name": "stdout",
     "output_type": "stream",
     "text": [
      "MRR@1:0.4400494437577256, MRR@10: 0.4866423371985794, MRR@50: 0.4881666117724335\n"
     ]
    }
   ],
   "source": [
    "mrr_at_1 = mrr_at_k(actual=golden_evidence_id, predicted=I, k=1)\n",
    "mrr_at_10 = mrr_at_k(actual=golden_evidence_id, predicted=I, k=10)\n",
    "mrr_at_50 = mrr_at_k(actual=golden_evidence_id, predicted=I, k=50)\n",
    "print(f\"MRR@1:{mrr_at_1}, MRR@10: {mrr_at_10}, MRR@50: {mrr_at_50}\")"
   ]
  },
  {
   "cell_type": "code",
   "execution_count": 175,
   "metadata": {},
   "outputs": [
    {
     "name": "stdout",
     "output_type": "stream",
     "text": [
      "MAP@1: 0.4400\n",
      "MAP@10: 0.4866\n",
      "MAP@50: 0.4882\n"
     ]
    }
   ],
   "source": [
    "map_at_1 = mean_average_precision_at_k(golden_evidence_id, I, 1)\n",
    "map_at_10 = mean_average_precision_at_k(golden_evidence_id, I, 10)\n",
    "map_at_50 = mean_average_precision_at_k(golden_evidence_id, I, 50)\n",
    "print(f\"MAP@1: {map_at_1:.4f}\")\n",
    "print(f\"MAP@10: {map_at_10:.4f}\")\n",
    "print(f\"MAP@50: {map_at_50:.4f}\")"
   ]
  },
  {
   "cell_type": "code",
   "execution_count": 158,
   "metadata": {},
   "outputs": [
    {
     "data": {
      "text/plain": [
       "True"
      ]
     },
     "execution_count": 158,
     "metadata": {},
     "output_type": "execute_result"
    }
   ],
   "source": [
    "1810 in I[0][:5]"
   ]
  },
  {
   "cell_type": "code",
   "execution_count": 157,
   "metadata": {},
   "outputs": [
    {
     "data": {
      "text/plain": [
       "array([1810, 4721,  151,  209, 4035])"
      ]
     },
     "execution_count": 157,
     "metadata": {},
     "output_type": "execute_result"
    }
   ],
   "source": [
    "I[0][:5]"
   ]
  },
  {
   "cell_type": "code",
   "execution_count": 169,
   "metadata": {},
   "outputs": [
    {
     "name": "stdout",
     "output_type": "stream",
     "text": [
      "MAP@3: 0.7037\n"
     ]
    }
   ],
   "source": [
    "import numpy as np\n",
    "\n",
    "def average_precision_at_k(relevant_docs, retrieved_docs, k):\n",
    "    \"\"\"\n",
    "    Calculate Average Precision at K for a single query\n",
    "    \n",
    "    Args:\n",
    "    relevant_docs (list): Indices of relevant documents\n",
    "    retrieved_docs (list): Indices of retrieved documents, in order of retrieval\n",
    "    k (int): Number of top results to consider\n",
    "    \n",
    "    Returns:\n",
    "    float: Average Precision at K\n",
    "    \"\"\"\n",
    "    if -1 in relevant_docs:\n",
    "        return 0.0\n",
    "    \n",
    "    relevant_docs = set(relevant_docs)\n",
    "    retrieved_docs = retrieved_docs[:k]\n",
    "    \n",
    "    precision_sum = 0\n",
    "    num_relevant = 0\n",
    "    \n",
    "    for i, doc in enumerate(retrieved_docs, 1):\n",
    "        if doc in relevant_docs:\n",
    "            num_relevant += 1\n",
    "            precision_sum += num_relevant / i\n",
    "    \n",
    "    return precision_sum / min(len(relevant_docs), k)\n",
    "\n",
    "def mean_average_precision_at_k(queries_relevant_docs, queries_retrieved_docs, k):\n",
    "    \"\"\"\n",
    "    Calculate Mean Average Precision at K (MAP@K) for multiple queries\n",
    "    \n",
    "    Args:\n",
    "    queries_relevant_docs (list of lists): List of relevant document indices for each query\n",
    "    queries_retrieved_docs (list of lists): List of retrieved document indices for each query\n",
    "    k (int): Number of top results to consider\n",
    "    \n",
    "    Returns:\n",
    "    float: MAP@K score\n",
    "    \"\"\"\n",
    "    ap_scores = [\n",
    "        average_precision_at_k(relevant, retrieved, k)\n",
    "        for relevant, retrieved in zip(queries_relevant_docs, queries_retrieved_docs)\n",
    "    ]\n",
    "    return np.mean(ap_scores)\n",
    "\n",
    "# Example usage\n",
    "queries_relevant_docs = [\n",
    "    [1, 3, 4],  # Relevant document indices for query 1\n",
    "    [2, 3, 5],  # Relevant document indices for query 2\n",
    "    [1, 2, 4]   # Relevant document indices for query 3\n",
    "]\n",
    "\n",
    "queries_retrieved_docs = [\n",
    "    [1, 2, 3, 4, 5],  # Retrieved document indices for query 1\n",
    "    [5, 3, 2, 1, 4],  # Retrieved document indices for query 2\n",
    "    [1, 3, 2, 5, 4]   # Retrieved document indices for query 3\n",
    "]\n",
    "\n",
    "k = 3  # We want to evaluate MAP@3\n",
    "\n",
    "map_score = mean_average_precision_at_k(queries_relevant_docs, queries_retrieved_docs, k)\n"
   ]
  },
  {
   "cell_type": "code",
   "execution_count": 174,
   "metadata": {},
   "outputs": [
    {
     "data": {
      "text/plain": [
       "0.7037037037037035"
      ]
     },
     "execution_count": 174,
     "metadata": {},
     "output_type": "execute_result"
    }
   ],
   "source": [
    "1/3*(1/3*(1+2/3)+1/3*(1+1+1)+1/3*(1+2/3))"
   ]
  },
  {
   "cell_type": "code",
   "execution_count": 163,
   "metadata": {},
   "outputs": [
    {
     "data": {
      "text/plain": [
       "0.5555555555555555"
      ]
     },
     "execution_count": 163,
     "metadata": {},
     "output_type": "execute_result"
    }
   ],
   "source": [
    "average_precision_at_k([1, 3, 4], [1, 2, 3, 4, 5], 3)"
   ]
  },
  {
   "cell_type": "code",
   "execution_count": 165,
   "metadata": {},
   "outputs": [
    {
     "data": {
      "text/plain": [
       "0.5555555555555555"
      ]
     },
     "execution_count": 165,
     "metadata": {},
     "output_type": "execute_result"
    }
   ],
   "source": [
    "1/3*(1+2/3)"
   ]
  },
  {
   "cell_type": "code",
   "execution_count": null,
   "metadata": {},
   "outputs": [],
   "source": []
  }
 ],
 "metadata": {
  "kernelspec": {
   "display_name": "ssm",
   "language": "python",
   "name": "python3"
  },
  "language_info": {
   "codemirror_mode": {
    "name": "ipython",
    "version": 3
   },
   "file_extension": ".py",
   "mimetype": "text/x-python",
   "name": "python",
   "nbconvert_exporter": "python",
   "pygments_lexer": "ipython3",
   "version": "3.12.4"
  }
 },
 "nbformat": 4,
 "nbformat_minor": 2
}
